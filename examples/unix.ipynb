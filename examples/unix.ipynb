{
 "cells": [
  {
   "cell_type": "code",
   "execution_count": 3,
   "metadata": {
    "collapsed": false
   },
   "outputs": [
    {
     "name": "stdout",
     "output_type": "stream",
     "text": [
      "['__name__', 'mem_total', 'mem_current', 'mem_peak', 'mem_info', 'qstr_info']\r\n"
     ]
    }
   ],
   "source": [
    "import micropython\n",
    "dir(micropython)"
   ]
  },
  {
   "cell_type": "code",
   "execution_count": 4,
   "metadata": {
    "collapsed": false
   },
   "outputs": [
    {
     "name": "stdout",
     "output_type": "stream",
     "text": [
      "mem: total=21023, current=2469, peak=4022\r\n",
      "stack: 640 out of 80000\r\n",
      "GC: total: 2072832, used: 3680, free: 2069152\r\n",
      " No. of 1-blocks: 97, 2-blocks: 2, max blk sz: 6\r\n"
     ]
    }
   ],
   "source": [
    "micropython.mem_info()"
   ]
  },
  {
   "cell_type": "code",
   "execution_count": null,
   "metadata": {
    "collapsed": true
   },
   "outputs": [],
   "source": []
  }
 ],
 "metadata": {
  "kernelspec": {
   "display_name": "micropython-unix",
   "language": "",
   "name": "mpunix"
  },
  "language_info": {
   "codemirror_mode": "python",
   "file_extension": ".py",
   "mimetype": "text/x-python",
   "name": "micropython"
  }
 },
 "nbformat": 4,
 "nbformat_minor": 0
}
