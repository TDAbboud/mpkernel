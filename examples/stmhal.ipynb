{
 "cells": [
  {
   "cell_type": "markdown",
   "metadata": {},
   "source": [
    "# Sample code using stmhal port of mpkernel"
   ]
  },
  {
   "cell_type": "markdown",
   "metadata": {},
   "source": [
    "#### boilerplate code for setup"
   ]
  },
  {
   "cell_type": "code",
   "execution_count": 1,
   "metadata": {
    "collapsed": false
   },
   "outputs": [],
   "source": [
    "# Setup Code\n",
    "import sys!!\n",
    "sys.path.append('/Users/User/dev/micropython/tools')!!\n",
    "import pyboard!!\n",
    "pyb = pyboard.Pyboard('/dev/tty.usbmodem1422')!!"
   ]
  },
  {
   "cell_type": "code",
   "execution_count": 2,
   "metadata": {
    "collapsed": false
   },
   "outputs": [],
   "source": [
    "pyb.enter_raw_repl()!!"
   ]
  },
  {
   "cell_type": "code",
   "execution_count": null,
   "metadata": {
    "collapsed": true
   },
   "outputs": [],
   "source": [
    "pyb.exit_raw_repl()!!"
   ]
  },
  {
   "cell_type": "markdown",
   "metadata": {},
   "source": [
    "#### micropython code section:"
   ]
  },
  {
   "cell_type": "code",
   "execution_count": 9,
   "metadata": {
    "collapsed": false
   },
   "outputs": [
    {
     "data": {
      "text/plain": [
       "(b'', b'')"
      ]
     },
     "execution_count": 9,
     "metadata": {},
     "output_type": "execute_result"
    }
   ],
   "source": [
    "# Blink an LED\n",
    "import pyb\n",
    "for x in range(10):\n",
    "    pyb.LED(1).toggle()\n",
    "    pyb.delay(500)"
   ]
  },
  {
   "cell_type": "code",
   "execution_count": 23,
   "metadata": {
    "collapsed": false
   },
   "outputs": [
    {
     "data": {
      "text/plain": [
       "(b'hello world\\r\\n', b'')"
      ]
     },
     "execution_count": 23,
     "metadata": {},
     "output_type": "execute_result"
    }
   ],
   "source": [
    "print(\"hello world\")"
   ]
  },
  {
   "cell_type": "code",
   "execution_count": 16,
   "metadata": {
    "collapsed": false
   },
   "outputs": [
    {
     "data": {
      "text/plain": [
       "(b'', b'')"
      ]
     },
     "execution_count": 16,
     "metadata": {},
     "output_type": "execute_result"
    }
   ],
   "source": [
    "# TIM Example\n",
    "tim = pyb.Timer(1, freq=1000)\n",
    "tim.counter()\n",
    "tim.freq(0.5)\n",
    "tim.callback(lambda t: pyb.LED(1).toggle())"
   ]
  }
 ],
 "metadata": {
  "kernelspec": {
   "display_name": "micropython-stmhal",
   "language": "",
   "name": "mpstmhal"
  },
  "language_info": {
   "codemirror_mode": "python",
   "file_extension": ".py",
   "mimetype": "text/x-python",
   "name": "micropython"
  }
 },
 "nbformat": 4,
 "nbformat_minor": 0
}
